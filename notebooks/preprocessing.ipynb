{
 "cells": [
  {
   "cell_type": "code",
   "execution_count": 6,
   "id": "cda93895-0d84-4fa7-ae9e-0ae93734c445",
   "metadata": {},
   "outputs": [
    {
     "name": "stdout",
     "output_type": "stream",
     "text": [
      "D:\\DAU\\SEM 1\\Fundamentals of Machine Learning\\Project\\notebooks\n"
     ]
    }
   ],
   "source": [
    "\"\"\"imports for the Data preprocessing\"\"\"\n",
    "import os\n",
    "import numpy as np\n",
    "import pandas as pd\n",
    "\n",
    "print(os.path.abspath(os.getcwd()))"
   ]
  },
  {
   "cell_type": "code",
   "execution_count": 22,
   "id": "6e9d8db2-5f9d-4896-a7dc-1bf0291f7f05",
   "metadata": {},
   "outputs": [
    {
     "data": {
      "text/html": [
       "<div>\n",
       "<style scoped>\n",
       "    .dataframe tbody tr th:only-of-type {\n",
       "        vertical-align: middle;\n",
       "    }\n",
       "\n",
       "    .dataframe tbody tr th {\n",
       "        vertical-align: top;\n",
       "    }\n",
       "\n",
       "    .dataframe thead th {\n",
       "        text-align: right;\n",
       "    }\n",
       "</style>\n",
       "<table border=\"1\" class=\"dataframe\">\n",
       "  <thead>\n",
       "    <tr style=\"text-align: right;\">\n",
       "      <th></th>\n",
       "      <th>Ticker</th>\n",
       "      <th>Company</th>\n",
       "      <th>Sector</th>\n",
       "      <th>Industry</th>\n",
       "      <th>Country</th>\n",
       "      <th>Market Cap</th>\n",
       "      <th>P/E</th>\n",
       "      <th>Price</th>\n",
       "      <th>Change</th>\n",
       "      <th>Volume</th>\n",
       "    </tr>\n",
       "    <tr>\n",
       "      <th>No.</th>\n",
       "      <th></th>\n",
       "      <th></th>\n",
       "      <th></th>\n",
       "      <th></th>\n",
       "      <th></th>\n",
       "      <th></th>\n",
       "      <th></th>\n",
       "      <th></th>\n",
       "      <th></th>\n",
       "      <th></th>\n",
       "    </tr>\n",
       "  </thead>\n",
       "  <tbody>\n",
       "    <tr>\n",
       "      <th>1</th>\n",
       "      <td>A</td>\n",
       "      <td>Agilent Technologies Inc</td>\n",
       "      <td>Healthcare</td>\n",
       "      <td>Diagnostics &amp; Research</td>\n",
       "      <td>USA</td>\n",
       "      <td>32241.35</td>\n",
       "      <td>27.99</td>\n",
       "      <td>113.50</td>\n",
       "      <td>-1.14%</td>\n",
       "      <td>1888649</td>\n",
       "    </tr>\n",
       "    <tr>\n",
       "      <th>2</th>\n",
       "      <td>AA</td>\n",
       "      <td>Alcoa Corp</td>\n",
       "      <td>Basic Materials</td>\n",
       "      <td>Aluminum</td>\n",
       "      <td>USA</td>\n",
       "      <td>7353.18</td>\n",
       "      <td>7.28</td>\n",
       "      <td>28.40</td>\n",
       "      <td>-5.24%</td>\n",
       "      <td>6930401</td>\n",
       "    </tr>\n",
       "    <tr>\n",
       "      <th>3</th>\n",
       "      <td>AAA</td>\n",
       "      <td>Alternative Access First Priority CLO Bond ETF</td>\n",
       "      <td>Financial</td>\n",
       "      <td>Exchange Traded Fund</td>\n",
       "      <td>USA</td>\n",
       "      <td>NaN</td>\n",
       "      <td>NaN</td>\n",
       "      <td>25.03</td>\n",
       "      <td>0.10%</td>\n",
       "      <td>6951</td>\n",
       "    </tr>\n",
       "    <tr>\n",
       "      <th>4</th>\n",
       "      <td>AAAA</td>\n",
       "      <td>Amplius Aggressive Asset Allocation ETF</td>\n",
       "      <td>Financial</td>\n",
       "      <td>Exchange Traded Fund</td>\n",
       "      <td>USA</td>\n",
       "      <td>NaN</td>\n",
       "      <td>NaN</td>\n",
       "      <td>25.02</td>\n",
       "      <td>-1.53%</td>\n",
       "      <td>22962</td>\n",
       "    </tr>\n",
       "    <tr>\n",
       "      <th>5</th>\n",
       "      <td>AAAU</td>\n",
       "      <td>Goldman Sachs Physical Gold ETF</td>\n",
       "      <td>Financial</td>\n",
       "      <td>Exchange Traded Fund</td>\n",
       "      <td>USA</td>\n",
       "      <td>NaN</td>\n",
       "      <td>NaN</td>\n",
       "      <td>33.15</td>\n",
       "      <td>2.03%</td>\n",
       "      <td>4025816</td>\n",
       "    </tr>\n",
       "  </tbody>\n",
       "</table>\n",
       "</div>"
      ],
      "text/plain": [
       "    Ticker                                         Company           Sector  \\\n",
       "No.                                                                           \n",
       "1        A                        Agilent Technologies Inc       Healthcare   \n",
       "2       AA                                      Alcoa Corp  Basic Materials   \n",
       "3      AAA  Alternative Access First Priority CLO Bond ETF        Financial   \n",
       "4     AAAA         Amplius Aggressive Asset Allocation ETF        Financial   \n",
       "5     AAAU                 Goldman Sachs Physical Gold ETF        Financial   \n",
       "\n",
       "                   Industry Country  Market Cap    P/E   Price  Change  \\\n",
       "No.                                                                      \n",
       "1    Diagnostics & Research     USA    32241.35  27.99  113.50  -1.14%   \n",
       "2                  Aluminum     USA     7353.18   7.28   28.40  -5.24%   \n",
       "3      Exchange Traded Fund     USA         NaN    NaN   25.03   0.10%   \n",
       "4      Exchange Traded Fund     USA         NaN    NaN   25.02  -1.53%   \n",
       "5      Exchange Traded Fund     USA         NaN    NaN   33.15   2.03%   \n",
       "\n",
       "      Volume  \n",
       "No.           \n",
       "1    1888649  \n",
       "2    6930401  \n",
       "3       6951  \n",
       "4      22962  \n",
       "5    4025816  "
      ]
     },
     "execution_count": 22,
     "metadata": {},
     "output_type": "execute_result"
    }
   ],
   "source": [
    "\"\"\" load the data into the juputer notebook and read by pandas \"\"\"\n",
    "\n",
    "# path for data \n",
    "data_path = r'D:\\DAU\\SEM 1\\Fundamentals of Machine Learning\\Project\\data\\finviz.csv'\n",
    "\n",
    "# Read the data from the data_path using pandas read_csv function and store at finviz_data \n",
    "finviz_data = pd.read_csv(data_path)\n",
    "\n",
    "# reset the index for finviz_data and using No. field as index and seting inpalce = True to delete default pandas indexing\n",
    "finviz_data.set_index('No.', inplace=True)\n",
    "\n",
    "# using pandas head function on finviz datafrane\n",
    "finviz_data.head() "
   ]
  },
  {
   "cell_type": "code",
   "execution_count": 23,
   "id": "9867e9c4-503c-4b35-9ffd-cf10be7b4def",
   "metadata": {},
   "outputs": [
    {
     "name": "stdout",
     "output_type": "stream",
     "text": [
      "<class 'pandas.core.frame.DataFrame'>\n",
      "Index: 10317 entries, 1 to 10317\n",
      "Data columns (total 10 columns):\n",
      " #   Column      Non-Null Count  Dtype  \n",
      "---  ------      --------------  -----  \n",
      " 0   Ticker      10316 non-null  object \n",
      " 1   Company     10317 non-null  object \n",
      " 2   Sector      10317 non-null  object \n",
      " 3   Industry    10317 non-null  object \n",
      " 4   Country     10317 non-null  object \n",
      " 5   Market Cap  5878 non-null   float64\n",
      " 6   P/E         3170 non-null   float64\n",
      " 7   Price       10304 non-null  float64\n",
      " 8   Change      10297 non-null  object \n",
      " 9   Volume      10317 non-null  int64  \n",
      "dtypes: float64(3), int64(1), object(6)\n",
      "memory usage: 886.6+ KB\n",
      "None\n"
     ]
    }
   ],
   "source": [
    "\"\"\"Exploring the data to find valuable information on data\"\"\"\n",
    "\n",
    "print(finviz_data.info())"
   ]
  },
  {
   "cell_type": "code",
   "execution_count": 27,
   "id": "a1b645a5-3029-40d2-9130-8ea6cb5364da",
   "metadata": {},
   "outputs": [
    {
     "name": "stdout",
     "output_type": "stream",
     "text": [
      "         Market Cap            P/E          Price        Volume\n",
      "count  5.878000e+03    3170.000000   10304.000000  1.031700e+04\n",
      "mean   1.391780e+04      94.435543     115.177223  1.917531e+06\n",
      "std    1.135028e+05    1904.326920    7009.891046  1.134871e+07\n",
      "min    3.700000e-01       0.000000       0.030000  0.000000e+00\n",
      "25%    1.055175e+02      10.992500       9.780000  1.379400e+04\n",
      "50%    5.580200e+02      18.130000      25.310000  1.232890e+05\n",
      "75%    3.728727e+03      33.385000      47.010000  8.549680e+05\n",
      "max    4.238768e+06  103014.290000  711480.000000  5.796719e+08\n"
     ]
    }
   ],
   "source": [
    "#  Printing the describtiob about the data\n",
    "\n",
    "print(finviz_data.describe())"
   ]
  },
  {
   "cell_type": "code",
   "execution_count": 28,
   "id": "685fe2b8-97d1-4a17-8c00-01d44282e61e",
   "metadata": {},
   "outputs": [
    {
     "data": {
      "text/plain": [
       "Ticker           1\n",
       "Company          0\n",
       "Sector           0\n",
       "Industry         0\n",
       "Country          0\n",
       "Market Cap    4439\n",
       "P/E           7147\n",
       "Price           13\n",
       "Change          20\n",
       "Volume           0\n",
       "dtype: int64"
      ]
     },
     "execution_count": 28,
     "metadata": {},
     "output_type": "execute_result"
    }
   ],
   "source": [
    "# printing the missing values in each column\n",
    "\n",
    "finviz_data.isna().sum()"
   ]
  },
  {
   "cell_type": "code",
   "execution_count": 33,
   "id": "13ce77db-f99e-4daa-ac9d-2b1889de1057",
   "metadata": {},
   "outputs": [],
   "source": [
    "# Drop rows with missing ticker (essential ID)\n",
    "finviz_data = finviz_data[finviz_data['Ticker'].notnull()]\n",
    "\n",
    "# Impute Market Cap by Sector median\n",
    "finviz_data['Market Cap'] = finviz_data.groupby('Sector')['Market Cap'].transform(\n",
    "    lambda x: x.fillna(x.median())\n",
    ")\n",
    "\n",
    "# Handle missing P/E\n",
    "finviz_data['PE_missing'] = finviz_data['P/E'].isnull().astype(int)\n",
    "finviz_data['P/E'] = finviz_data['P/E'].fillna(finviz_data['P/E'].median())\n",
    "\n",
    "# Fill minor missing values\n",
    "finviz_data['Price'] = finviz_data['Price'].fillna(finviz_data['Price'].median())\n",
    "finviz_data['Change'] = finviz_data['Change'].fillna(0)\n"
   ]
  },
  {
   "cell_type": "code",
   "execution_count": 34,
   "id": "29d75265-bc05-4439-b49d-760a1dc9df0c",
   "metadata": {},
   "outputs": [
    {
     "data": {
      "text/plain": [
       "Ticker        0\n",
       "Company       0\n",
       "Sector        0\n",
       "Industry      0\n",
       "Country       0\n",
       "Market Cap    0\n",
       "P/E           0\n",
       "Price         0\n",
       "Change        0\n",
       "Volume        0\n",
       "PE_missing    0\n",
       "dtype: int64"
      ]
     },
     "execution_count": 34,
     "metadata": {},
     "output_type": "execute_result"
    }
   ],
   "source": [
    "finviz_data.isna().sum()"
   ]
  },
  {
   "cell_type": "code",
   "execution_count": null,
   "id": "aa0567bc-1de8-4021-9c6b-eb5fabb1963f",
   "metadata": {},
   "outputs": [
    {
     "name": "stdout",
     "output_type": "stream",
     "text": [
      "✅ Preprocessed data saved to D:/DAU/SEM 1/Fundamentals of Machine Learning/Project/data/finviz_cleaned.csv\n"
     ]
    }
   ],
   "source": [
    "# Save to new CSV file\n",
    "preprocessed_path = 'D:/DAU/SEM 1/Fundamentals of Machine Learning/Project/data/finviz.csv'\n",
    "finviz_data.to_csv(preprocessed_path, index=False)\n",
    "\n",
    "print(f\"✅ Preprocessed data saved to {preprocessed_path}\") "
   ]
  },
  {
   "cell_type": "code",
   "execution_count": null,
   "id": "cdc178ab-0d3a-4181-abf0-c47beb4eb18e",
   "metadata": {},
   "outputs": [],
   "source": []
  }
 ],
 "metadata": {
  "kernelspec": {
   "display_name": "Python [conda env:base] *",
   "language": "python",
   "name": "conda-base-py"
  },
  "language_info": {
   "codemirror_mode": {
    "name": "ipython",
    "version": 3
   },
   "file_extension": ".py",
   "mimetype": "text/x-python",
   "name": "python",
   "nbconvert_exporter": "python",
   "pygments_lexer": "ipython3",
   "version": "3.12.7"
  }
 },
 "nbformat": 4,
 "nbformat_minor": 5
}
